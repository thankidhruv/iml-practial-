{
 "cells": [
  {
   "cell_type": "code",
   "execution_count": 4,
   "id": "b5bded0c",
   "metadata": {},
   "outputs": [
    {
     "name": "stdout",
     "output_type": "stream",
     "text": [
      "\n",
      "Filtered DataFrame with all entries present \n",
      "Empty DataFrame\n",
      "Columns: []\n",
      "Index: [0, 1, 2, 3, 4]\n",
      "\n",
      "Rows with NaN values \n",
      "    Name    ID\n",
      "2    NaN  30.0\n",
      "4  Sumit   NaN\n",
      "\n",
      "Columns with NaN values \n",
      "Index(['Name', 'ID'], dtype='object')\n",
      "\n",
      "Cleaned DataFrame with no NaN values \n",
      "     Name    ID\n",
      "0   Dhruv  12.0\n",
      "1  Kalpit  12.0\n",
      "3   Sumit  40.0\n"
     ]
    }
   ],
   "source": [
    "#Practical-11\n",
    "# 216270307058 – Thanki Dhruv\n",
    "import pandas as pd \n",
    "import numpy as np\n",
    " # Creating Data data = { 'Name' : ['Kalpit','Dhruv','Sumit','Meet','Ajay'], 'Enroll' : [74, 58, 49, 22 , np.nan],'Age' : [18,17,20,21,np.nan] } \n",
    "df = pd.DataFrame(data) \n",
    "filtered_data = df.dropna(axis=1, how='any')\n",
    " # Rows with Nan Values \n",
    "rows_nan = df[df.isnull().any(axis=1)]\n",
    " # Columns with Nan Values \n",
    "columns_nan = df.columns[df.isnull().any()]\n",
    " # Drop Nan Values\n",
    "df_cleaned = df.dropna() \n",
    "print(\"\\nFiltered DataFrame with all entries present \") \n",
    "print(filtered_data) \n",
    "print(\"\\nRows with NaN values \")\n",
    "print(rows_nan) \n",
    "print(\"\\nColumns with NaN values \") \n",
    "print(columns_nan) \n",
    "print(\"\\nCleaned DataFrame with no NaN values \")\n",
    "print(df_cleaned)\n",
    "\n"
   ]
  },
  {
   "cell_type": "code",
   "execution_count": null,
   "id": "b05d68ee",
   "metadata": {},
   "outputs": [],
   "source": []
  }
 ],
 "metadata": {
  "kernelspec": {
   "display_name": "Python 3 (ipykernel)",
   "language": "python",
   "name": "python3"
  },
  "language_info": {
   "codemirror_mode": {
    "name": "ipython",
    "version": 3
   },
   "file_extension": ".py",
   "mimetype": "text/x-python",
   "name": "python",
   "nbconvert_exporter": "python",
   "pygments_lexer": "ipython3",
   "version": "3.11.4"
  }
 },
 "nbformat": 4,
 "nbformat_minor": 5
}
