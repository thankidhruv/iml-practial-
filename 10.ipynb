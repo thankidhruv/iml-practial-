{
 "cells": [
  {
   "cell_type": "code",
   "execution_count": 5,
   "id": "a890db06",
   "metadata": {},
   "outputs": [
    {
     "name": "stdout",
     "output_type": "stream",
     "text": [
      "\n",
      "After Removing Missing Values \n",
      "     name        toy       born\n",
      "1  Batman  Batmobile 1956-06-26\n"
     ]
    }
   ],
   "source": [
    "#Practical-10\n",
    "#Dhruv thanki\n",
    "#216270307058\n",
    "import pandas as pd\n",
    "import numpy as np\n",
    "\n",
    "data = {\n",
    "    \"name\": ['Superman', 'Batman', 'Spiderman'],\n",
    "    \"toy\": [np.nan, 'Batmobile', 'Spiderman toy'],\n",
    "    \"born\": [np.nan, pd.Timestamp(\"1956-06-26\"), pd.NaT]\n",
    "}\n",
    "df = pd.DataFrame(data)\n",
    "\n",
    "print(\"\\nAfter Removing Missing Values \")\n",
    "print(df.dropna())\n"
   ]
  },
  {
   "cell_type": "code",
   "execution_count": 12,
   "id": "69a741c9",
   "metadata": {},
   "outputs": [
    {
     "name": "stdout",
     "output_type": "stream",
     "text": [
      "Before Removing Duplicate Values \n",
      "     Name    ID\n",
      "0  Kalpit  12.0\n",
      "1   Dhruv  12.0\n",
      "2     NaN  30.0\n",
      "3   Sumit  40.0\n",
      "4   Sumit   NaN\n",
      "\n",
      "After Removing Duplicate Values \n",
      "     Name    ID\n",
      "0  Kalpit  12.0\n",
      "1   Dhruv  12.0\n",
      "2     NaN  30.0\n",
      "3   Sumit  40.0\n"
     ]
    },
    {
     "data": {
      "text/plain": [
       "(None, None)"
      ]
     },
     "execution_count": 12,
     "metadata": {},
     "output_type": "execute_result"
    }
   ],
   "source": [
    "import pandas as pd\n",
    "import numpy as np\n",
    "\n",
    "# Dictionary\n",
    "data = {\n",
    "    'Name': ['Kalpit', 'Dhruv', np.nan, 'Sumit', 'Sumit'],\n",
    "    'ID': [12, 12, 30, 40, np.nan]\n",
    "}\n",
    "\n",
    "# Converting into DataFrame\n",
    "df = pd.DataFrame(data)\n",
    "\n",
    "# Before Remove Duplicate values\n",
    "print(\"Before Removing Duplicate Values \")\n",
    "print(df)\n",
    "\n",
    "# After Removing Duplicate Values\n",
    "print(\"\\nAfter Removing Duplicate Values \"),print(df.drop_duplicates('Name'))\n"
   ]
  },
  {
   "cell_type": "code",
   "execution_count": null,
   "id": "da9ab739",
   "metadata": {},
   "outputs": [],
   "source": []
  }
 ],
 "metadata": {
  "kernelspec": {
   "display_name": "Python 3 (ipykernel)",
   "language": "python",
   "name": "python3"
  },
  "language_info": {
   "codemirror_mode": {
    "name": "ipython",
    "version": 3
   },
   "file_extension": ".py",
   "mimetype": "text/x-python",
   "name": "python",
   "nbconvert_exporter": "python",
   "pygments_lexer": "ipython3",
   "version": "3.11.4"
  }
 },
 "nbformat": 4,
 "nbformat_minor": 5
}
